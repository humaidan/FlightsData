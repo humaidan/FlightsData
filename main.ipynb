{
 "cells": [
  {
   "cell_type": "code",
   "execution_count": null,
   "metadata": {},
   "outputs": [
    {
     "ename": "",
     "evalue": "",
     "output_type": "error",
     "traceback": [
      "\u001b[1;31mRunning cells with 'Python 3.10.6 64-bit' requires ipykernel package.\n",
      "\u001b[1;31mRun the following command to install 'ipykernel' into the Python environment. \n",
      "\u001b[1;31mCommand: '/usr/bin/python -m pip install ipykernel -U --user --force-reinstall'"
     ]
    }
   ],
   "source": [
    "import datetime\n",
    "import random\n",
    "import math\n",
    "import pandas as pd\n",
    "\n",
    "from config import CONFIG\n",
    "\n",
    "\n",
    "# print (CONFIG['nature_stats'])\n",
    "\n",
    "# x = [random.randint(0, 9) for p in range(0, 10)]\n",
    "# print(x)\n",
    "\n",
    "# print(random.randrange(4, 8))\n",
    "\n",
    "\n",
    "# sampleList = [10, 20, 30, 40]\n",
    "# print(random.choice(sampleList))\n",
    "\n",
    "\n",
    "# numberList = [111, 222, 333, 444, 555]\n",
    "# print(random.choices(numberList, weights=(10, 20, 30, 40, 50), k=5))\n",
    "\n",
    "# destinations = list(CONFIG['dest_stats'].keys())\n",
    "# dest_probs = list(CONFIG['dest_stats'].values())\n",
    "\n",
    "# # print(destinations)\n",
    "# # print()\n",
    "# # print(dest_probs)\n",
    "# print( random.choices(destinations, weights=dest_probs, k=100) )\n",
    "\n",
    "df = pd.DataFrame(columns=['ArrFlight', 'ACType', 'bookload', 'STD', 'ATA', 'ArrRoute', 'DepRoute'])\n",
    "\n",
    "total_records = random.randrange(int(CONFIG['total_records']*0.9), int(CONFIG['total_records']*1.1))\n",
    "months = math.ceil(total_records / CONFIG['average_per_month'])\n",
    "# print(records, months)\n",
    "\n",
    "recs = 0\n",
    "\n",
    "# last_date = datetime.datetime.strptime(CONFIG['last_date'], '%y-%m-%d %H:%M:%S')\n",
    "last_date = datetime.datetime.fromisoformat(CONFIG['last_date'])\n",
    "records_time_diff = CONFIG['average_per_month'] / 30 / 24 * 60  # mins\n",
    "last_count = 0\n",
    "\n",
    "\n",
    "while recs < total_records:\n",
    "\n",
    "    airlines = list(CONFIG['airlines_stats'].keys())\n",
    "    airlines_probs = list(CONFIG['airlines_stats'].values())\n",
    "    randFlights = random.choices(airlines, weights=airlines_probs, k=2)\n",
    "\n",
    "    arrFlight = randFlights[0] + random.choice(list(CONFIG['airlines_flightnums'][randFlights[0]]))\n",
    "    depFlight = randFlights[1] + random.choice(list(CONFIG['airlines_flightnums'][randFlights[1]]))\n",
    "\n",
    "    ACType = random.choice(CONFIG['ACType'])\n",
    "\n",
    "    pax = list(CONFIG['PAXBookLoad_stats'].keys())\n",
    "    pax_probs = list(CONFIG['PAXBookLoad_stats'].values())\n",
    "    bookload = random.choices(pax, weights=pax_probs, k=1)[0]\n",
    "\n",
    "    dests = list(CONFIG['dest_stats'].keys())\n",
    "    dests_probs = list(CONFIG['dest_stats'].values())\n",
    "    routes = random.choices(dests, weights=dests_probs, k=2)\n",
    "\n",
    "    time1 = random.choice( range(int(records_time_diff)) )\n",
    "    last_date -= datetime.timedelta(minutes=time1) + datetime.timedelta(seconds=random.choice( range(59) ))\n",
    "    sta_time = last_date\n",
    "    # print(last_date, time1)\n",
    "\n",
    "    delay_mins = random.choice( range(-99, 99) )\n",
    "    ata_time = sta_time + datetime.timedelta(minutes=delay_mins) + datetime.timedelta(seconds=random.choice( range(59) ))\n",
    "\n",
    "    # print(arrFlight, depFlight, ACType, bookload, route, sta_time, ata_time)\n",
    "    df.loc[len(df.index)] = [arrFlight, ACType, bookload, sta_time, ata_time, routes[0], routes[1]]\n",
    "\n",
    "    recs += 1\n",
    "\n",
    "print(df)\n",
    "df.to_csv('flights.csv')\n",
    "    \n",
    "\n",
    "\n"
   ]
  }
 ],
 "metadata": {
  "kernelspec": {
   "display_name": "Python 3.10.6 64-bit",
   "language": "python",
   "name": "python3"
  },
  "language_info": {
   "name": "python",
   "version": "3.10.6"
  },
  "orig_nbformat": 4,
  "vscode": {
   "interpreter": {
    "hash": "767d51c1340bd893661ea55ea3124f6de3c7a262a8b4abca0554b478b1e2ff90"
   }
  }
 },
 "nbformat": 4,
 "nbformat_minor": 2
}
